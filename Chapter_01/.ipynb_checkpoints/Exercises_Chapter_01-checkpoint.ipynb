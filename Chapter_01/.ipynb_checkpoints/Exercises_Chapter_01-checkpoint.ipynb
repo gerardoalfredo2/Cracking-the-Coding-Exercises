{
 "cells": [
  {
   "cell_type": "markdown",
   "metadata": {},
   "source": [
    "## Arrays and Strings"
   ]
  },
  {
   "cell_type": "markdown",
   "metadata": {},
   "source": [
    "#### 1.1  Implement an algorithm to determine if a string has all unique characters. What if you can not use additional data structures?"
   ]
  },
  {
   "cell_type": "code",
   "execution_count": 107,
   "metadata": {},
   "outputs": [],
   "source": [
    "#Input= string\n",
    "#Output = True if has unique characters, false if has not unique\n",
    "#all char are not capital char\n",
    "#Test case 1: input\"lalal\", output=false\n",
    "#Test case 2: input\"l\", output=True\n",
    "#Test case 3: input\"army asa\", output=false\n",
    "#Test case 4: input\"paz\", output=True\n",
    "\n",
    "#1 Method brute force all combinations x**2\n",
    "import time\n",
    "def is_unique1(word):#lalal\n",
    "    for i in range(len(word)):\n",
    "        for j in range(1,len(word)):#i=0 p,j=2 z\n",
    "            if word[i]==word[j]:  \n",
    "                return False\n",
    "        return True\n",
    "#2 Method Recursion\n",
    "def is_unique2(word):#'paz'\n",
    "    if len(word)==1:\n",
    "            return True\n",
    "    else:\n",
    "        if word[0] in word[1:]:\n",
    "            return False\n",
    "        else:\n",
    "            return is_unique2(word[1:])\n",
    "\n",
    "#3 Using set\n",
    "def is_unique3(word):\n",
    "    return len(word)==len(set(word))"
   ]
  },
  {
   "cell_type": "code",
   "execution_count": 108,
   "metadata": {},
   "outputs": [
    {
     "name": "stdout",
     "output_type": "stream",
     "text": [
      " 1st Method the word 'lalal' has unique characters: sol1= False \n",
      " 3th Method the word 'lalal' has unique characters: sol2= False \n",
      " 3th Method the word 'lalal' has unique characters: sol3= False \n",
      "\n",
      " 1st Method the word 'l' has unique characters: sol1= True \n",
      " 3th Method the word 'l' has unique characters: sol2= True \n",
      " 3th Method the word 'l' has unique characters: sol3= True \n",
      "\n",
      " 1st Method the word 'army asa' has unique characters: sol1= False \n",
      " 3th Method the word 'army asa' has unique characters: sol2= False \n",
      " 3th Method the word 'army asa' has unique characters: sol3= False \n",
      "\n",
      " 1st Method the word 'paz' has unique characters: sol1= True \n",
      " 3th Method the word 'paz' has unique characters: sol2= True \n",
      " 3th Method the word 'paz' has unique characters: sol3= True \n",
      "\n",
      " 1st Method the word 'sol' has unique characters: sol1= True \n",
      " 3th Method the word 'sol' has unique characters: sol2= True \n",
      " 3th Method the word 'sol' has unique characters: sol3= True \n",
      "\n"
     ]
    }
   ],
   "source": [
    "testcase=[\"lalal\",\"l\",\"army asa\",\"paz\",\"sol\"]\n",
    "for i in testcase:\n",
    "    print(\" 1st Method the word '{}' has unique characters: sol1= {} \".\\\n",
    "          format(i,is_unique1(i)))\n",
    "    print(\" 3th Method the word '{}' has unique characters: sol2= {} \".\\\n",
    "          format(i,is_unique2(i)))\n",
    "    print(\" 3th Method the word '{}' has unique characters: sol3= {} \\n\".\\\n",
    "          format(i,is_unique3(i)))\n",
    "   "
   ]
  },
  {
   "cell_type": "code",
   "execution_count": null,
   "metadata": {},
   "outputs": [],
   "source": []
  }
 ],
 "metadata": {
  "kernelspec": {
   "display_name": "Python 3",
   "language": "python",
   "name": "python3"
  },
  "language_info": {
   "codemirror_mode": {
    "name": "ipython",
    "version": 3
   },
   "file_extension": ".py",
   "mimetype": "text/x-python",
   "name": "python",
   "nbconvert_exporter": "python",
   "pygments_lexer": "ipython3",
   "version": "3.6.5"
  }
 },
 "nbformat": 4,
 "nbformat_minor": 2
}
