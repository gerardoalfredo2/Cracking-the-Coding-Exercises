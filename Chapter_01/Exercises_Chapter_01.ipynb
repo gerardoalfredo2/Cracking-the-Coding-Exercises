{
 "cells": [
  {
   "cell_type": "markdown",
   "metadata": {},
   "source": [
    "## Arrays and Strings"
   ]
  },
  {
   "cell_type": "markdown",
   "metadata": {},
   "source": [
    "#### 1.1  Implement an algorithm to determine if a string has all unique characters. What if you can not use additional data structures?"
   ]
  },
  {
   "cell_type": "code",
   "execution_count": 122,
   "metadata": {},
   "outputs": [],
   "source": [
    "#Input= string\n",
    "#Output = True if has unique characters, false if has not unique\n",
    "#all char are not capital char\n",
    "#Test case 1: input\"lalal\", output=false\n",
    "#Test case 2: input\"l\", output=True\n",
    "#Test case 3: input\"army asa\", output=false\n",
    "#Test case 4: input\"paz\", output=True\n",
    "\n",
    "#1 Method brute force all combinations x**2\n",
    "import timeit \n",
    "def is_unique1(word):#lalal\n",
    "    for i in range(len(word)):\n",
    "        for j in range(1,len(word)):#i=0 p,j=2 z\n",
    "            if word[i]==word[j]:  \n",
    "                return False\n",
    "        return True\n",
    "#2 Method Recursion\n",
    "def is_unique2(word):#'paz'\n",
    "    start_time = datetime.now() \n",
    "    if len(word)==1:\n",
    "            return True\n",
    "    else:\n",
    "        if word[0] in word[1:]:\n",
    "            return False\n",
    "        else:\n",
    "            return is_unique2(word[1:])\n",
    "\n",
    "#3 Using set fastest\n",
    "def is_unique3(word):\n",
    "    return len(word)==len(set(word))"
   ]
  },
  {
   "cell_type": "code",
   "execution_count": 145,
   "metadata": {},
   "outputs": [
    {
     "name": "stdout",
     "output_type": "stream",
     "text": [
      "1st Method the word 'lalal' has unique characters: sol1= False \n",
      "2d Method the word 'lalal' has unique characters: sol2= False\n",
      "3th Method the word 'lalal' has unique characters: sol3= False\n",
      "\n",
      "1st Method the word 'l' has unique characters: sol1= True \n",
      "2d Method the word 'l' has unique characters: sol2= True\n",
      "3th Method the word 'l' has unique characters: sol3= True\n",
      "\n",
      "1st Method the word 'army asa' has unique characters: sol1= False \n",
      "2d Method the word 'army asa' has unique characters: sol2= False\n",
      "3th Method the word 'army asa' has unique characters: sol3= False\n",
      "\n",
      "1st Method the word 'paz' has unique characters: sol1= True \n",
      "2d Method the word 'paz' has unique characters: sol2= True\n",
      "3th Method the word 'paz' has unique characters: sol3= True\n",
      "\n",
      "1st Method the word 'sol' has unique characters: sol1= True \n",
      "2d Method the word 'sol' has unique characters: sol2= True\n",
      "3th Method the word 'sol' has unique characters: sol3= True\n",
      "\n"
     ]
    }
   ],
   "source": [
    "testcase=[\"lalal\",\"l\",\"army asa\",\"paz\",\"sol\"]\n",
    "for i in testcase:\n",
    "    print(\"1st Method the word '{}' has unique characters: sol1= {} \".\\\n",
    "          format(i,is_unique1(i)))\n",
    "    print(\"2d Method the word '{}' has unique characters: sol2= {}\".\\\n",
    "          format(i,is_unique2(i)))\n",
    "    print(\"3th Method the word '{}' has unique characters: sol3= {}\\n\".\\\n",
    "          format(i,is_unique3(i)))"
   ]
  },
  {
   "cell_type": "code",
   "execution_count": 147,
   "metadata": {},
   "outputs": [
    {
     "name": "stdout",
     "output_type": "stream",
     "text": [
      "Time to run\n",
      "First algorithm  lalal\n",
      "1.15 µs ± 87.7 ns per loop (mean ± std. dev. of 7 runs, 1000000 loops each)\n",
      "Second algorithm  lalal\n",
      "849 ns ± 74.2 ns per loop (mean ± std. dev. of 7 runs, 1000000 loops each)\n",
      "Third algorithm  lalal\n",
      "594 ns ± 45 ns per loop (mean ± std. dev. of 7 runs, 1000000 loops each)\n",
      "\n",
      "\n",
      "Time to run\n",
      "First algorithm  l\n",
      "894 ns ± 80.7 ns per loop (mean ± std. dev. of 7 runs, 1000000 loops each)\n",
      "Second algorithm  l\n",
      "626 ns ± 30.3 ns per loop (mean ± std. dev. of 7 runs, 1000000 loops each)\n",
      "Third algorithm  l\n",
      "489 ns ± 33.3 ns per loop (mean ± std. dev. of 7 runs, 1000000 loops each)\n",
      "\n",
      "\n",
      "Time to run\n",
      "First algorithm  army asa\n",
      "1.38 µs ± 68.1 ns per loop (mean ± std. dev. of 7 runs, 1000000 loops each)\n",
      "Second algorithm  army asa\n",
      "845 ns ± 50.3 ns per loop (mean ± std. dev. of 7 runs, 1000000 loops each)\n",
      "Third algorithm  army asa\n",
      "742 ns ± 54.4 ns per loop (mean ± std. dev. of 7 runs, 1000000 loops each)\n",
      "\n",
      "\n",
      "Time to run\n",
      "First algorithm  paz\n",
      "1.21 µs ± 42.7 ns per loop (mean ± std. dev. of 7 runs, 1000000 loops each)\n",
      "Second algorithm  paz\n",
      "2.58 µs ± 364 ns per loop (mean ± std. dev. of 7 runs, 100000 loops each)\n",
      "Third algorithm  paz\n",
      "566 ns ± 67.5 ns per loop (mean ± std. dev. of 7 runs, 1000000 loops each)\n",
      "\n",
      "\n",
      "Time to run\n",
      "First algorithm  sol\n",
      "1.19 µs ± 65.4 ns per loop (mean ± std. dev. of 7 runs, 1000000 loops each)\n",
      "Second algorithm  sol\n",
      "2.64 µs ± 662 ns per loop (mean ± std. dev. of 7 runs, 100000 loops each)\n",
      "Third algorithm  sol\n",
      "568 ns ± 53 ns per loop (mean ± std. dev. of 7 runs, 1000000 loops each)\n",
      "\n",
      "\n"
     ]
    }
   ],
   "source": [
    " for i in testcase:   \n",
    "    print('Time to run')\n",
    "    print(\"First algorithm \",i)\n",
    "    %timeit is_unique1(i)\n",
    "    print(\"Second algorithm \",i)\n",
    "    %timeit is_unique2(i)\n",
    "    print(\"Third algorithm \",i)\n",
    "    %timeit is_unique3(i)\n",
    "    print('\\n')"
   ]
  },
  {
   "cell_type": "markdown",
   "metadata": {},
   "source": [
    "#### 1.2  Write code to reverse a C-Style String   (C-String means that “abcd” is represented as five characters, including the null character  )"
   ]
  },
  {
   "cell_type": "code",
   "execution_count": null,
   "metadata": {},
   "outputs": [],
   "source": []
  }
 ],
 "metadata": {
  "kernelspec": {
   "display_name": "Python 3",
   "language": "python",
   "name": "python3"
  },
  "language_info": {
   "codemirror_mode": {
    "name": "ipython",
    "version": 3
   },
   "file_extension": ".py",
   "mimetype": "text/x-python",
   "name": "python",
   "nbconvert_exporter": "python",
   "pygments_lexer": "ipython3",
   "version": "3.6.5"
  }
 },
 "nbformat": 4,
 "nbformat_minor": 2
}
